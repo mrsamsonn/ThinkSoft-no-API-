{
  "nbformat": 4,
  "nbformat_minor": 0,
  "metadata": {
    "colab": {
      "provenance": [],
      "authorship_tag": "ABX9TyMuInPARUuxSiESlpcvheVg",
      "include_colab_link": true
    },
    "kernelspec": {
      "name": "python3",
      "display_name": "Python 3"
    },
    "language_info": {
      "name": "python"
    }
  },
  "cells": [
    {
      "cell_type": "markdown",
      "metadata": {
        "id": "view-in-github",
        "colab_type": "text"
      },
      "source": [
        "<a href=\"https://colab.research.google.com/github/mrsamsonn/ThinkSoft/blob/main/think_soft_sys_filter.ipynb\" target=\"_parent\"><img src=\"https://colab.research.google.com/assets/colab-badge.svg\" alt=\"Open In Colab\"/></a>"
      ]
    },
    {
      "cell_type": "code",
      "execution_count": 9,
      "metadata": {
        "id": "jhvdYb7gYdmP"
      },
      "outputs": [],
      "source": [
        "f = open('system_info.txt', 'r')\n",
        "\n",
        "for myLine in f:\n",
        "  if \"Capacity\" in myLine:\n",
        "    cap =  myLine.strip()\n",
        "  if \"Memory\" in myLine:\n",
        "    mem =  myLine.strip()\n",
        "  if \"Chip\" in myLine:\n",
        "    chip =  myLine.strip()\n",
        "  if \"Serial\" in myLine:\n",
        "    serial =  myLine.strip()\n",
        "  if \"Model Identifier\" in myLine:\n",
        "    model_id =  myLine.strip()\n",
        "  if \"Resolution\" in myLine:\n",
        "    resolution = myLine.strip()\n"
      ]
    },
    {
      "cell_type": "code",
      "source": [
        "f = open('system_info.txt', 'w')\n",
        "\n",
        "print(cap)\n",
        "print(mem)\n",
        "print(chip)\n",
        "print(serial)\n",
        "print(model_id)\n",
        "print(resolution)\n",
        "\n",
        "f.write(cap+'\\n')\n",
        "f.write(mem+'\\n')\n",
        "f.write(chip+'\\n')\n",
        "f.write(model_id+'\\n')\n",
        "f.write(resolution+'\\n')\n",
        "\n",
        "f.close()"
      ],
      "metadata": {
        "colab": {
          "base_uri": "https://localhost:8080/"
        },
        "id": "_OCjiqkZY18v",
        "outputId": "0f590503-ed25-46b2-f33a-8914855bce2d"
      },
      "execution_count": 13,
      "outputs": [
        {
          "output_type": "stream",
          "name": "stdout",
          "text": [
            "Capacity: 245.11 GB (245,107,195,904 bytes)\n",
            "Memory: 8 GB\n",
            "Chipset Model: Apple M2\n",
            "Serial Number (system): HT0FXJ37R3\n",
            "Model Identifier: Mac14,7\n",
            "Resolution: 2560 x 1600 Retina\n"
          ]
        }
      ]
    }
  ]
}